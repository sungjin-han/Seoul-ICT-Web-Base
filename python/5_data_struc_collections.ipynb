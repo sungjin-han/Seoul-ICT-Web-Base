{
 "cells": [
  {
   "cell_type": "code",
   "execution_count": 1,
   "metadata": {},
   "outputs": [],
   "source": [
    "# Lesson: 데이터 구조와 컬렉션\n",
    "\n",
    "# Lists\n",
    "# 리스트는 순서가 있는 변경 가능한 요소의 집합입니다."
   ]
  },
  {
   "cell_type": "code",
   "execution_count": 2,
   "metadata": {},
   "outputs": [
    {
     "name": "stdout",
     "output_type": "stream",
     "text": [
      "과일: ['사과', '바나나', '체리', '파인애플']\n"
     ]
    }
   ],
   "source": [
    "fruits = [\"사과\", \"바나나\", \"체리\", \"파인애플\"]\n",
    "print(\"과일:\", fruits)"
   ]
  },
  {
   "cell_type": "code",
   "execution_count": 5,
   "metadata": {},
   "outputs": [
    {
     "name": "stdout",
     "output_type": "stream",
     "text": [
      "첫 번째 과일: 바나나\n",
      "마지막 과일: 파인애플\n"
     ]
    }
   ],
   "source": [
    "print(\"첫 번째 과일:\", fruits[1])\n",
    "print(\"마지막 과일:\", fruits[-1])"
   ]
  },
  {
   "cell_type": "code",
   "execution_count": 6,
   "metadata": {},
   "outputs": [
    {
     "name": "stdout",
     "output_type": "stream",
     "text": [
      "변경된 과일: ['사과', '오렌지', '체리', '파인애플']\n"
     ]
    }
   ],
   "source": [
    "fruits[1] = \"오렌지\"\n",
    "print(\"변경된 과일:\", fruits)"
   ]
  },
  {
   "cell_type": "code",
   "execution_count": 7,
   "metadata": {},
   "outputs": [
    {
     "name": "stdout",
     "output_type": "stream",
     "text": [
      "갱신된 과일: ['사과', '오렌지', '체리', '파인애플', '포도']\n"
     ]
    }
   ],
   "source": [
    "fruits.append(\"포도\")\n",
    "print(\"갱신된 과일:\", fruits)"
   ]
  },
  {
   "cell_type": "code",
   "execution_count": 8,
   "metadata": {},
   "outputs": [
    {
     "name": "stdout",
     "output_type": "stream",
     "text": [
      "갱신된 과일: ['사과', '오렌지', '파인애플', '포도']\n"
     ]
    }
   ],
   "source": [
    "fruits.remove(\"체리\")\n",
    "print(\"갱신된 과일:\", fruits)"
   ]
  },
  {
   "cell_type": "code",
   "execution_count": 9,
   "metadata": {},
   "outputs": [
    {
     "name": "stdout",
     "output_type": "stream",
     "text": [
      "사람: ('Alice', 25, '뉴욕')\n"
     ]
    }
   ],
   "source": [
    "# Tuples\n",
    "# 튜플은 순서가 있는 변경할 수 없는 요소의 집합입니다.\n",
    "\n",
    "person = (\"Alice\", 25, \"뉴욕\")\n",
    "print(\"사람:\", person)"
   ]
  },
  {
   "cell_type": "code",
   "execution_count": 10,
   "metadata": {},
   "outputs": [
    {
     "name": "stdout",
     "output_type": "stream",
     "text": [
      "이름: Alice\n",
      "나이: 25\n"
     ]
    }
   ],
   "source": [
    "print(\"이름:\", person[0])\n",
    "print(\"나이:\", person[1])"
   ]
  },
  {
   "cell_type": "code",
   "execution_count": 13,
   "metadata": {},
   "outputs": [
    {
     "data": {
      "text/plain": [
       "['사과', '오렌지', '파인애플', '포도']"
      ]
     },
     "execution_count": 13,
     "metadata": {},
     "output_type": "execute_result"
    }
   ],
   "source": [
    "fruits"
   ]
  },
  {
   "cell_type": "code",
   "execution_count": 14,
   "metadata": {},
   "outputs": [],
   "source": [
    "fruits.append(\"오렌지\")"
   ]
  },
  {
   "cell_type": "code",
   "execution_count": 15,
   "metadata": {},
   "outputs": [
    {
     "data": {
      "text/plain": [
       "['사과', '오렌지', '파인애플', '포도', '오렌지']"
      ]
     },
     "execution_count": 15,
     "metadata": {},
     "output_type": "execute_result"
    }
   ],
   "source": [
    "fruits"
   ]
  },
  {
   "cell_type": "code",
   "execution_count": 16,
   "metadata": {},
   "outputs": [
    {
     "name": "stdout",
     "output_type": "stream",
     "text": [
      "숫자: {1, 2, 3, 4}\n"
     ]
    }
   ],
   "source": [
    "# Sets\n",
    "# 세트는 순서가 없는 고유한 요소의 집합입니다.\n",
    "numbers = {1, 2, 3, 4, 4, 4}\n",
    "print(\"숫자:\", numbers)"
   ]
  },
  {
   "cell_type": "code",
   "execution_count": 10,
   "metadata": {},
   "outputs": [
    {
     "name": "stdout",
     "output_type": "stream",
     "text": [
      "갱신된 숫자: {1, 2, 3, 4, 5}\n"
     ]
    }
   ],
   "source": [
    "numbers.add(5)\n",
    "print(\"갱신된 숫자:\", numbers)"
   ]
  },
  {
   "cell_type": "code",
   "execution_count": 11,
   "metadata": {},
   "outputs": [
    {
     "name": "stdout",
     "output_type": "stream",
     "text": [
      "갱신된 숫자: {1, 2, 4, 5}\n"
     ]
    }
   ],
   "source": [
    "numbers.remove(3)\n",
    "print(\"갱신된 숫자:\", numbers)"
   ]
  },
  {
   "cell_type": "code",
   "execution_count": 23,
   "metadata": {},
   "outputs": [
    {
     "name": "stdout",
     "output_type": "stream",
     "text": [
      "<class 'list'>\n",
      "['오렌지', '사과', '파인애플', '포도']\n"
     ]
    }
   ],
   "source": [
    "fruits = list(set(fruits))\n",
    "print(type(fruits))\n",
    "print(fruits)"
   ]
  },
  {
   "cell_type": "code",
   "execution_count": 18,
   "metadata": {},
   "outputs": [
    {
     "data": {
      "text/plain": [
       "{'사과', '오렌지', '포도'}"
      ]
     },
     "execution_count": 18,
     "metadata": {},
     "output_type": "execute_result"
    }
   ],
   "source": [
    "fruits_set"
   ]
  },
  {
   "cell_type": "code",
   "execution_count": 24,
   "metadata": {},
   "outputs": [
    {
     "name": "stdout",
     "output_type": "stream",
     "text": [
      "학생: {'name': 'Alice', 'age': 20, 'major': '컴퓨터 공학'}\n"
     ]
    }
   ],
   "source": [
    "# Dictionaries\n",
    "# 딕셔너리는 키-값 쌍의 순서가 없는 집합입니다.\n",
    "student = {\"name\": \"Alice\", \"age\": 20, \"major\": \"컴퓨터 공학\"}\n",
    "print(\"학생:\", student)"
   ]
  },
  {
   "cell_type": "code",
   "execution_count": 27,
   "metadata": {},
   "outputs": [
    {
     "name": "stdout",
     "output_type": "stream",
     "text": [
      "이름: Alice\n"
     ]
    }
   ],
   "source": [
    "print(\"이름:\", student[\"name\"])"
   ]
  },
  {
   "cell_type": "code",
   "execution_count": 28,
   "metadata": {},
   "outputs": [
    {
     "name": "stdout",
     "output_type": "stream",
     "text": [
      "변경된 학생: {'name': 'Alice', 'age': 20, 'major': '수학'}\n"
     ]
    }
   ],
   "source": [
    "student[\"major\"] = \"수학\"\n",
    "print(\"변경된 학생:\", student)"
   ]
  },
  {
   "cell_type": "code",
   "execution_count": 15,
   "metadata": {},
   "outputs": [
    {
     "name": "stdout",
     "output_type": "stream",
     "text": [
      "갱신된 학생: {'이름': 'Alice', '나이': 20, '전공': '수학', '대학교': 'ABC 대학교'}\n"
     ]
    }
   ],
   "source": [
    "student[\"대학교\"] = \"ABC 대학교\"\n",
    "print(\"갱신된 학생:\", student)"
   ]
  },
  {
   "cell_type": "code",
   "execution_count": 29,
   "metadata": {},
   "outputs": [
    {
     "name": "stdout",
     "output_type": "stream",
     "text": [
      "갱신된 학생: {'name': 'Alice', 'major': '수학'}\n"
     ]
    }
   ],
   "source": [
    "del student[\"age\"]\n",
    "print(\"갱신된 학생:\", student)"
   ]
  },
  {
   "cell_type": "code",
   "execution_count": 30,
   "metadata": {},
   "outputs": [],
   "source": [
    "student = {\"name\": \"james\", \"age\": 35, \"name\": \"alice\"}"
   ]
  },
  {
   "cell_type": "code",
   "execution_count": 31,
   "metadata": {},
   "outputs": [
    {
     "data": {
      "text/plain": [
       "{'name': 'alice', 'age': 35}"
      ]
     },
     "execution_count": 31,
     "metadata": {},
     "output_type": "execute_result"
    }
   ],
   "source": [
    "student"
   ]
  },
  {
   "cell_type": "code",
   "execution_count": null,
   "metadata": {},
   "outputs": [],
   "source": []
  }
 ],
 "metadata": {
  "kernelspec": {
   "display_name": "Python 3",
   "language": "python",
   "name": "python3"
  },
  "language_info": {
   "codemirror_mode": {
    "name": "ipython",
    "version": 3
   },
   "file_extension": ".py",
   "mimetype": "text/x-python",
   "name": "python",
   "nbconvert_exporter": "python",
   "pygments_lexer": "ipython3",
   "version": "3.11.3"
  },
  "orig_nbformat": 4
 },
 "nbformat": 4,
 "nbformat_minor": 2
}
