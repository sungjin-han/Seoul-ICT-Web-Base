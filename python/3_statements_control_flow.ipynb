{
 "cells": [
  {
   "cell_type": "code",
   "execution_count": 1,
   "metadata": {},
   "outputs": [
    {
     "name": "stdout",
     "output_type": "stream",
     "text": [
      "성인입니다.\n"
     ]
    }
   ],
   "source": [
    "# Lesson: 문장과 제어 흐름\n",
    "\n",
    "# if 문\n",
    "# if 문은 조건에 따라 코드 블록을 조건부로 실행하는 데 사용됩니다.\n",
    "\n",
    "age = 18\n",
    "\n",
    "if age >= 18:\n",
    "    print(\"성인입니다.\")\n",
    "else:\n",
    "    print(\"성인이 아닙니다.\")"
   ]
  },
  {
   "cell_type": "code",
   "execution_count": 3,
   "metadata": {},
   "outputs": [
    {
     "name": "stdout",
     "output_type": "stream",
     "text": [
      "학점은 B입니다.\n"
     ]
    }
   ],
   "source": [
    "# if-elif-else 문\n",
    "# if-elif-else 문은 여러 조건을 확인할 수 있습니다.\n",
    "\n",
    "grade = 85\n",
    "\n",
    "if grade >= 90:\n",
    "    print(\"학점은 A입니다.\")\n",
    "elif grade >= 80:\n",
    "    print(\"학점은 B입니다.\")\n",
    "elif grade >= 70:\n",
    "    print(\"학점은 C입니다.\")\n",
    "else:\n",
    "    print(\"C 이하의 학점입니다.\")\n",
    "    "
   ]
  },
  {
   "cell_type": "code",
   "execution_count": 8,
   "metadata": {},
   "outputs": [
    {
     "name": "stdout",
     "output_type": "stream",
     "text": [
      "너가 먹고 싶은 과일은? 사과\n",
      "너가 먹고 싶은 과일은? 바나나\n",
      "너가 먹고 싶은 과일은? 체리\n",
      "너가 먹고 싶은 과일은? 파인애플\n"
     ]
    }
   ],
   "source": [
    "# for 반복문\n",
    "# for 반복문은 요소의 시퀀스를 반복합니다.\n",
    "\n",
    "fruits = [\"사과\", \"바나나\", \"체리\", \"파인애플\"]\n",
    "\n",
    "for fruit in fruits:\n",
    "    message = \"너가 먹고 싶은 과일은? {}\".format(fruit)\n",
    "    print(message)"
   ]
  },
  {
   "cell_type": "code",
   "execution_count": 11,
   "metadata": {},
   "outputs": [
    {
     "name": "stdout",
     "output_type": "stream",
     "text": [
      "카운트: 1\n",
      "카운트: 2\n",
      "카운트: 3\n",
      "카운트: 4\n",
      "카운트: 5\n"
     ]
    }
   ],
   "source": [
    "# while 반복문\n",
    "# while 반복문은 조건이 참인 동안 코드 블록을 반복하여 실행합니다.\n",
    "\n",
    "count = 1\n",
    "\n",
    "while count <= 5:\n",
    "    print(\"카운트:\", count)\n",
    "    count += 1 ## count = count + 1"
   ]
  },
  {
   "cell_type": "code",
   "execution_count": 1,
   "metadata": {},
   "outputs": [
    {
     "name": "stdout",
     "output_type": "stream",
     "text": [
      "10\n",
      "20\n",
      "30\n",
      "40\n",
      "50\n",
      "60\n",
      "70\n",
      "80\n",
      "90\n",
      "100\n"
     ]
    }
   ],
   "source": [
    "number = 0\n",
    "while True:\n",
    "    number += 1\n",
    "    if number % 10 == 0:\n",
    "        print(number)\n",
    "    \n",
    "    if number >= 100:\n",
    "        break"
   ]
  },
  {
   "cell_type": "code",
   "execution_count": 5,
   "metadata": {},
   "outputs": [
    {
     "name": "stdout",
     "output_type": "stream",
     "text": [
      "1\n",
      "2\n",
      "3\n",
      "4\n"
     ]
    }
   ],
   "source": [
    "# break 문\n",
    "# break 문은 반복문을 조기에 종료합니다.\n",
    "\n",
    "for number in range(1, 10):\n",
    "    if number == 5:\n",
    "        break\n",
    "    print(number)"
   ]
  },
  {
   "cell_type": "code",
   "execution_count": 3,
   "metadata": {},
   "outputs": [
    {
     "name": "stdout",
     "output_type": "stream",
     "text": [
      "1\n",
      "2\n",
      "4\n",
      "5\n"
     ]
    }
   ],
   "source": [
    "# continue 문\n",
    "# continue 문은 현재 반복을 건너뛰고 다음 반복으로 이동합니다.\n",
    "\n",
    "for number in range(1, 6):\n",
    "    if number == 3:\n",
    "        continue\n",
    "    print(number)"
   ]
  },
  {
   "cell_type": "code",
   "execution_count": 5,
   "metadata": {},
   "outputs": [
    {
     "name": "stdout",
     "output_type": "stream",
     "text": [
      "1 1\n",
      "1 2\n",
      "1 3\n",
      "2 1\n",
      "2 2\n",
      "2 3\n",
      "3 1\n",
      "3 2\n",
      "3 3\n"
     ]
    }
   ],
   "source": [
    "# 중첩된 반복문\n",
    "# 중첩된 반복문은 하나의 반복문 안에 또 다른 반복문이 있는 구조입니다.\n",
    "\n",
    "for i in range(1, 4):\n",
    "    for j in range(1, 4):\n",
    "        print(i, j)"
   ]
  },
  {
   "cell_type": "code",
   "execution_count": null,
   "metadata": {},
   "outputs": [],
   "source": []
  }
 ],
 "metadata": {
  "kernelspec": {
   "display_name": "Python 3",
   "language": "python",
   "name": "python3"
  },
  "language_info": {
   "codemirror_mode": {
    "name": "ipython",
    "version": 3
   },
   "file_extension": ".py",
   "mimetype": "text/x-python",
   "name": "python",
   "nbconvert_exporter": "python",
   "pygments_lexer": "ipython3",
   "version": "3.11.3"
  },
  "orig_nbformat": 4
 },
 "nbformat": 4,
 "nbformat_minor": 2
}
