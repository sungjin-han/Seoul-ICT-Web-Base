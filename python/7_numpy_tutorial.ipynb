{
 "cells": [
  {
   "cell_type": "code",
   "execution_count": 4,
   "metadata": {},
   "outputs": [],
   "source": [
    "# Lesson: NumPy 초급 튜토리얼\n",
    "\n",
    "# NumPy 가져오기\n",
    "import numpy as np"
   ]
  },
  {
   "cell_type": "code",
   "execution_count": 6,
   "metadata": {},
   "outputs": [
    {
     "data": {
      "text/plain": [
       "array([1, 2, 3])"
      ]
     },
     "execution_count": 6,
     "metadata": {},
     "output_type": "execute_result"
    }
   ],
   "source": [
    "arr = np.array([1,2,3])\n",
    "arr"
   ]
  },
  {
   "cell_type": "code",
   "execution_count": 7,
   "metadata": {},
   "outputs": [
    {
     "name": "stdout",
     "output_type": "stream",
     "text": [
      "arr1의 첫 번째 요소: 3\n",
      "arr2의 1행 2열 요소: 6\n"
     ]
    }
   ],
   "source": [
    "# NumPy 배열 생성하기\n",
    "\"\"\" \n",
    "Array는 리스트다.\n",
    "리스트는 = [1, \"apple\", True]\n",
    "\n",
    "수학에서 벡터는 크기와 방향을 개념\n",
    "화살표의 길이는 : 크기를 나타내고\n",
    "화살표의 방향은 : 방향을 나타내고\n",
    "크기와 방향을 일정한 값으로 지정해두고 다른 벡터들과 연산했을때 그 값들 사이의 특징과 개념들을\n",
    "수학적으로 풀 수 있다.\n",
    "\n",
    "세상의 있는 지식들을 수학적으로 풀어야 할때 가장 대표적으로 사용되는 수학개념이 바로 선형대수입니다.\n",
    "스칼라, 벡터, 매트릭스, 텐서 ......\n",
    "(숫자), (숫자 여러개), (벡터가 여러개면 매트릭스), (매트릭스가 여러개면 텐서)\n",
    "\"\"\"\n",
    "\n",
    "arr1 = np.array([1, 2, 3, 4, 5]) # 1 dimension \n",
    "arr2 = np.array([[1, 2, 3], [4, 5, 6], [7,8,9]]) # two dimension\n",
    "\n",
    "# 배열 요소 접근하기\n",
    "\n",
    "print(\"arr1의 첫 번째 요소:\", arr1[2])\n",
    "print(\"arr2의 1행 2열 요소:\", arr2[1, 2])"
   ]
  },
  {
   "cell_type": "code",
   "execution_count": null,
   "metadata": {},
   "outputs": [],
   "source": [
    "\"\"\"\n",
    "이미지\n",
    "정사각형인 형태가 많음\n",
    "가로, 세로, 그 안에 그림이 있음\n",
    "가로는 100cm, 세로도 100cm, 그림은 강아지\n",
    "\n",
    "가로축에 1cm당 1개 픽셀이라하면은 가로축에는 값이 100개가 있죠\n",
    "세로축도 같은 조건이라면 당연히 100개\n",
    "\n",
    "width = [3,51,6,1,7,1,5,2,6,........]\n",
    "height = [3,51,6,1,7,1,5,2,6,........]\n",
    "색깔은 0~255\n",
    "pixcel = [35, 108, 40, 20, 50 ............. 10000]\n",
    "그림은?? 검은색(눈), 코는(흰색), 입은(빨간색) 배경은 풀밭(초록색)\n",
    "\n",
    "\n",
    "\n",
    "\"\"\" "
   ]
  },
  {
   "cell_type": "code",
   "execution_count": 8,
   "metadata": {},
   "outputs": [
    {
     "name": "stdout",
     "output_type": "stream",
     "text": [
      "arr1의 형태: (5,)\n",
      "arr2의 형태: (3, 3)\n",
      "arr1의 데이터 타입: int64\n",
      "arr2의 데이터 타입: int64\n"
     ]
    }
   ],
   "source": [
    "# 배열 속성\n",
    "print(\"arr1의 형태:\", arr1.shape)\n",
    "print(\"arr2의 형태:\", arr2.shape)\n",
    "print(\"arr1의 데이터 타입:\", arr1.dtype)\n",
    "print(\"arr2의 데이터 타입:\", arr2.dtype)"
   ]
  },
  {
   "cell_type": "code",
   "execution_count": 9,
   "metadata": {},
   "outputs": [
    {
     "data": {
      "text/plain": [
       "array([1.1, 0.3, 0.5, 0.4])"
      ]
     },
     "execution_count": 9,
     "metadata": {},
     "output_type": "execute_result"
    }
   ],
   "source": [
    "new_arr = np.array([1.1, 0.3, 0.5, 0.4])\n",
    "new_arr"
   ]
  },
  {
   "cell_type": "code",
   "execution_count": 10,
   "metadata": {},
   "outputs": [
    {
     "data": {
      "text/plain": [
       "dtype('float64')"
      ]
     },
     "execution_count": 10,
     "metadata": {},
     "output_type": "execute_result"
    }
   ],
   "source": [
    "new_arr.dtype"
   ]
  },
  {
   "cell_type": "code",
   "execution_count": 11,
   "metadata": {},
   "outputs": [
    {
     "name": "stdout",
     "output_type": "stream",
     "text": [
      "arr3: [3 4 5 6 7]\n",
      "arr4: [ 3  6  9 12 15]\n"
     ]
    }
   ],
   "source": [
    "# 배열 연산\n",
    "arr3 = arr1 + 2\n",
    "arr4 = arr1 * 3\n",
    "\n",
    "print(\"arr3:\", arr3)\n",
    "print(\"arr4:\", arr4)"
   ]
  },
  {
   "cell_type": "code",
   "execution_count": 12,
   "metadata": {},
   "outputs": [
    {
     "name": "stdout",
     "output_type": "stream",
     "text": [
      "arr1의 합계: 15\n",
      "arr2의 평균: 5.0\n",
      "arr1의 최댓값: 5\n",
      "arr2의 최솟값: 1\n"
     ]
    }
   ],
   "source": [
    "# 배열 함수\n",
    "print(\"arr1의 합계:\", np.sum(arr1))\n",
    "print(\"arr2의 평균:\", np.mean(arr2))\n",
    "print(\"arr1의 최댓값:\", np.max(arr1))\n",
    "print(\"arr2의 최솟값:\", np.min(arr2))"
   ]
  },
  {
   "cell_type": "code",
   "execution_count": 18,
   "metadata": {},
   "outputs": [
    {
     "name": "stdout",
     "output_type": "stream",
     "text": [
      "재구성된 배열: [[1 2 3]\n",
      " [4 5 6]]\n"
     ]
    }
   ],
   "source": [
    "# 배열 재구성\n",
    "arr5 = np.array([1, 2, 3, 4, 5, 6])\n",
    "reshaped_arr = arr5.reshape(2, 3)\n",
    "print(\"재구성된 배열:\", reshaped_arr)"
   ]
  },
  {
   "cell_type": "code",
   "execution_count": 19,
   "metadata": {},
   "outputs": [
    {
     "name": "stdout",
     "output_type": "stream",
     "text": [
      "슬라이싱된 배열: [2 3 4]\n"
     ]
    }
   ],
   "source": [
    "# 배열 슬라이싱\n",
    "arr6 = np.array([1, 2, 3, 4, 5])\n",
    "sliced_arr = arr6[1:4]\n",
    "print(\"슬라이싱된 배열:\", sliced_arr)"
   ]
  },
  {
   "cell_type": "code",
   "execution_count": 21,
   "metadata": {},
   "outputs": [
    {
     "data": {
      "text/plain": [
       "[1, 2, 3, 4, 5, 6]"
      ]
     },
     "execution_count": 21,
     "metadata": {},
     "output_type": "execute_result"
    }
   ],
   "source": [
    "num_list1 = [1,2,3]\n",
    "num_list2 = [4,5,6]\n",
    "num_list3 = num_list1 + num_list2\n",
    "num_list3"
   ]
  },
  {
   "cell_type": "code",
   "execution_count": 22,
   "metadata": {},
   "outputs": [
    {
     "data": {
      "text/plain": [
       "array([1, 2, 3, 4, 5, 6])"
      ]
     },
     "execution_count": 22,
     "metadata": {},
     "output_type": "execute_result"
    }
   ],
   "source": [
    "num_list3 = np.array(num_list3)\n",
    "num_list3"
   ]
  },
  {
   "cell_type": "code",
   "execution_count": 23,
   "metadata": {},
   "outputs": [
    {
     "data": {
      "text/plain": [
       "21"
      ]
     },
     "execution_count": 23,
     "metadata": {},
     "output_type": "execute_result"
    }
   ],
   "source": [
    "num_sum = np.sum(num_list3)\n",
    "num_sum"
   ]
  },
  {
   "cell_type": "code",
   "execution_count": 25,
   "metadata": {},
   "outputs": [
    {
     "name": "stdout",
     "output_type": "stream",
     "text": [
      "연결된 배열: [1 2 3 4 5 6]\n"
     ]
    }
   ],
   "source": [
    "# 배열 연결\n",
    "arr7 = np.array([1, 2, 3])\n",
    "arr9 = np.array([4, 5, 6])\n",
    "\n",
    "concatenated_arr = np.concatenate((arr7, arr9))\n",
    "print(\"연결된 배열:\", concatenated_arr)"
   ]
  },
  {
   "cell_type": "code",
   "execution_count": 26,
   "metadata": {},
   "outputs": [
    {
     "name": "stdout",
     "output_type": "stream",
     "text": [
      "스택된 배열: [[1 2 3]\n",
      " [4 5 6]]\n",
      "난수 배열: [[0.19039737 0.59060911]\n",
      " [0.03878429 0.54749276]\n",
      " [0.97100062 0.00983348]]\n"
     ]
    }
   ],
   "source": [
    "# 배열 스택\n",
    "stacked_arr = np.stack((arr7, arr9))\n",
    "print(\"스택된 배열:\", stacked_arr)\n",
    "\n",
    "# 난수 생성\n",
    "random_arr = np.random.rand(3, 2)\n",
    "print(\"난수 배열:\", random_arr)"
   ]
  },
  {
   "cell_type": "code",
   "execution_count": null,
   "metadata": {},
   "outputs": [],
   "source": []
  }
 ],
 "metadata": {
  "kernelspec": {
   "display_name": "Python 3",
   "language": "python",
   "name": "python3"
  },
  "language_info": {
   "codemirror_mode": {
    "name": "ipython",
    "version": 3
   },
   "file_extension": ".py",
   "mimetype": "text/x-python",
   "name": "python",
   "nbconvert_exporter": "python",
   "pygments_lexer": "ipython3",
   "version": "3.11.3"
  },
  "orig_nbformat": 4
 },
 "nbformat": 4,
 "nbformat_minor": 2
}
