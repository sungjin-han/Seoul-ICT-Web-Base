{
 "cells": [
  {
   "cell_type": "code",
   "execution_count": 2,
   "metadata": {},
   "outputs": [
    {
     "name": "stdout",
     "output_type": "stream",
     "text": [
      "덧셈: 8\n",
      "뺄셈: 5\n",
      "곱셈: 24\n",
      "나눗셈: 5.0\n",
      "몫: 3\n",
      "나머지: 3\n",
      "거듭제곱: 8\n"
     ]
    }
   ],
   "source": [
    "# Lesson: 연산자와 표현식\n",
    "\n",
    "# 산술 연산자\n",
    "# 산술 연산자는 수학적 계산을 수행하는 데 사용됩니다.\n",
    "\n",
    "# 덧셈\n",
    "result = 5 + 3\n",
    "print(\"덧셈:\", result)\n",
    "\n",
    "# 뺄셈\n",
    "result = 7 - 2\n",
    "print(\"뺄셈:\", result)\n",
    "\n",
    "# 곱셈\n",
    "result = 4 * 6\n",
    "print(\"곱셈:\", result)\n",
    "\n",
    "# 나눗셈\n",
    "result = 15 / 3\n",
    "print(\"나눗셈:\", result)\n",
    "\n",
    "# 몫\n",
    "result = 15 // 4\n",
    "print(\"몫:\", result)\n",
    "\n",
    "# 나머지\n",
    "result = 15 % 4\n",
    "print(\"나머지:\", result)\n",
    "\n",
    "# 거듭제곱\n",
    "result = 2 ** 3\n",
    "print(\"거듭제곱:\", result)"
   ]
  },
  {
   "cell_type": "code",
   "execution_count": 3,
   "metadata": {},
   "outputs": [
    {
     "name": "stdout",
     "output_type": "stream",
     "text": [
      "같음: True\n",
      "같지 않음: True\n",
      "크다: True\n",
      "작다: True\n",
      "크거나 같다: True\n",
      "작거나 같다: False\n"
     ]
    }
   ],
   "source": [
    "# 비교 연산자\n",
    "# 비교 연산자는 값들을 비교하고 부울 결과를 반환합니다.\n",
    "\n",
    "# 같음\n",
    "result = 5 == 5\n",
    "print(\"같음:\", result) ## Boolean True False\n",
    "\n",
    "# 같지 않음\n",
    "result = 6 != 3 ##Boolean True False\n",
    "print(\"같지 않음:\", result)\n",
    "\n",
    "# 크다\n",
    "result = 8 > 3 ##Booelean True\n",
    "print(\"크다:\", result)\n",
    "\n",
    "# 작다\n",
    "result = 4 < 7 ## Boolean True\n",
    "print(\"작다:\", result)\n",
    "\n",
    "# 크거나 같다\n",
    "result = 5 >= 5 ## True\n",
    "print(\"크거나 같다:\", result)\n",
    "\n",
    "# 작거나 같다\n",
    "result = 3 <= 2  ## False\n",
    "print(\"작거나 같다:\", result)"
   ]
  },
  {
   "cell_type": "code",
   "execution_count": 3,
   "metadata": {},
   "outputs": [
    {
     "name": "stdout",
     "output_type": "stream",
     "text": [
      "AND 연산자: True\n",
      "OR 연산자: True\n",
      "NOT 연산자: False\n"
     ]
    }
   ],
   "source": [
    "# 논리 연산자\n",
    "# 논리 연산자는 조건들을 결합하고 부울 결과를 반환합니다.\n",
    "\n",
    "# AND 연산자\n",
    "result = (5 > 3) and (4 < 7)\n",
    "print(\"AND 연산자:\", result)\n",
    "\n",
    "# OR 연산자\n",
    "result = (5 > 3) or (4 > 7)\n",
    "print(\"OR 연산자:\", result)\n",
    "\n",
    "# NOT 연산자\n",
    "result = not (5 > 3)\n",
    "print(\"NOT 연산자:\", result)\n"
   ]
  },
  {
   "cell_type": "code",
   "execution_count": 4,
   "metadata": {},
   "outputs": [
    {
     "name": "stdout",
     "output_type": "stream",
     "text": [
      "표현식 1: 7\n",
      "표현식 2: 78.5\n"
     ]
    }
   ],
   "source": [
    "# 표현식\n",
    "# 표현식은 값들, 변수들, 그리고 연산자들의 조합입니다.\n",
    "\n",
    "# 예제 1\n",
    "x = 3\n",
    "y = 2\n",
    "result = x + y * 2\n",
    "print(\"표현식 1:\", result)\n",
    "\n",
    "# 예제 2\n",
    "radius = 5\n",
    "area = 3.14 * radius ** 2\n",
    "print(\"표현식 2:\", area)"
   ]
  },
  {
   "cell_type": "code",
   "execution_count": null,
   "metadata": {},
   "outputs": [],
   "source": []
  }
 ],
 "metadata": {
  "kernelspec": {
   "display_name": "Python 3",
   "language": "python",
   "name": "python3"
  },
  "language_info": {
   "codemirror_mode": {
    "name": "ipython",
    "version": 3
   },
   "file_extension": ".py",
   "mimetype": "text/x-python",
   "name": "python",
   "nbconvert_exporter": "python",
   "pygments_lexer": "ipython3",
   "version": "3.11.3"
  },
  "orig_nbformat": 4
 },
 "nbformat": 4,
 "nbformat_minor": 2
}
