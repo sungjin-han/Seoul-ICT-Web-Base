{
 "cells": [
  {
   "cell_type": "code",
   "execution_count": 1,
   "metadata": {},
   "outputs": [],
   "source": [
    "# Lesson: 함수와 모듈\n",
    "\n",
    "# 함수\n",
    "# 함수는 특정 작업을 수행하는 재사용 가능한 코드 블록입니다.\n",
    "\n",
    "# 함수 정의하기\n",
    "def greet():\n",
    "    print(\"안녕하세요!\")"
   ]
  },
  {
   "cell_type": "code",
   "execution_count": 2,
   "metadata": {},
   "outputs": [
    {
     "name": "stdout",
     "output_type": "stream",
     "text": [
      "안녕하세요!\n"
     ]
    }
   ],
   "source": [
    "greet() ##호출 -> 곧 내가 만든 함수를 실행하겠다."
   ]
  },
  {
   "cell_type": "code",
   "execution_count": 3,
   "metadata": {},
   "outputs": [
    {
     "name": "stdout",
     "output_type": "stream",
     "text": [
      "Alice님, 안녕하세요!\n",
      "Bob님, 안녕하세요!\n"
     ]
    }
   ],
   "source": [
    "# 매개변수(Parameter)가 있는 함수\n",
    "def greet_person(name):\n",
    "    print(name + \"님, 안녕하세요!\")\n",
    "\n",
    "# 인자와 함께 함수 호출하기\n",
    "greet_person(\"Alice\")\n",
    "greet_person(\"Bob\")"
   ]
  },
  {
   "cell_type": "code",
   "execution_count": null,
   "metadata": {},
   "outputs": [],
   "source": []
  },
  {
   "cell_type": "code",
   "execution_count": 5,
   "metadata": {},
   "outputs": [
    {
     "name": "stdout",
     "output_type": "stream",
     "text": [
      "3 5\n",
      "결과: 8\n"
     ]
    }
   ],
   "source": [
    "# 반환 값이 있는 함수\n",
    "def add_numbers(x, y):\n",
    "    print(x, y)\n",
    "    sum = x+y\n",
    "    return sum\n",
    "    \n",
    "\n",
    "# 함수 호출하고 결과 저장하기\n",
    "result = add_numbers(3, 5)\n",
    "print(\"결과:\", result)"
   ]
  },
  {
   "cell_type": "code",
   "execution_count": 6,
   "metadata": {},
   "outputs": [
    {
     "name": "stdout",
     "output_type": "stream",
     "text": [
      "제곱근: 4.0\n"
     ]
    }
   ],
   "source": [
    "# 모듈\n",
    "# 모듈은 다른 프로그램에서 재사용할 수 있는 Python 코드를 포함하는 파일입니다.\n",
    "\n",
    "# 모듈 가져오기\n",
    "import math\n",
    "\n",
    "# math 모듈의 함수 사용하기\n",
    "square_root = math.sqrt(16)\n",
    "print(\"제곱근:\", square_root)"
   ]
  },
  {
   "cell_type": "code",
   "execution_count": 11,
   "metadata": {},
   "outputs": [
    {
     "name": "stdout",
     "output_type": "stream",
     "text": [
      "무작위 숫자: 4\n"
     ]
    }
   ],
   "source": [
    "# 특정 함수만 모듈에서 가져오기\n",
    "from math import sqrt\n",
    "from random import randint\n",
    "\n",
    "# randint 함수 사용하기\n",
    "무작위_숫자 = randint(1, 10)\n",
    "print(\"무작위 숫자:\", 무작위_숫자)"
   ]
  },
  {
   "cell_type": "code",
   "execution_count": 1,
   "metadata": {},
   "outputs": [
    {
     "name": "stdout",
     "output_type": "stream",
     "text": [
      "Your full-name is David Paul\n"
     ]
    }
   ],
   "source": [
    "# 사용자 정의 모듈 가져오고 사용하기\n",
    "from my_module import say_hello, get_fullname, add_numbers\n",
    "#from your_module import get_fullname\n",
    "\n",
    "#say_hello(\"Alice\")\n",
    "# say_hello(\"Bob\")\n",
    "full_name = get_fullname(\"David\", \"Paul\")\n",
    "print(\"Your full-name is {}\".format(full_name))"
   ]
  },
  {
   "cell_type": "code",
   "execution_count": null,
   "metadata": {},
   "outputs": [],
   "source": []
  }
 ],
 "metadata": {
  "kernelspec": {
   "display_name": "Python 3",
   "language": "python",
   "name": "python3"
  },
  "language_info": {
   "codemirror_mode": {
    "name": "ipython",
    "version": 3
   },
   "file_extension": ".py",
   "mimetype": "text/x-python",
   "name": "python",
   "nbconvert_exporter": "python",
   "pygments_lexer": "ipython3",
   "version": "3.11.3"
  },
  "orig_nbformat": 4
 },
 "nbformat": 4,
 "nbformat_minor": 2
}
