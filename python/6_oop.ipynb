{
 "cells": [
  {
   "cell_type": "code",
   "execution_count": 2,
   "metadata": {},
   "outputs": [
    {
     "name": "stdout",
     "output_type": "stream",
     "text": [
      "Rectangle1 width: 3\n",
      "Rectangle1 height: 5\n",
      "Rectangle 1 area: 15\n"
     ]
    }
   ],
   "source": [
    "# Lesson: 객체 지향 프로그래밍 (OOP, Object-oriented Programming)\n",
    "\n",
    "# 클래스와 객체\n",
    "# 클래스는 객체를 생성하기 위한 청사진(blueprint)이며, 객체는 클래스의 인스턴스입니다.\n",
    "\n",
    "# 클래스 정의하기\n",
    "class Rectangle:\n",
    "    \n",
    "    #생성자(constructor)\n",
    "    def __init__(self, width, height):\n",
    "        self.width = width\n",
    "        self.height = height\n",
    "\n",
    "    # 메서드(method, 함수)\n",
    "    def area(self):\n",
    "        return self.width * self.height\n",
    "\n",
    "# Object creation\n",
    "# instance\n",
    "rect1 = Rectangle(3, 5)\n",
    "#rect2 = Rectangle(4, 6)\n",
    "\n",
    "# Accessing object attributes and methods\n",
    "print(\"Rectangle1 width: {}\".format(rect1.width))\n",
    "print(\"Rectangle1 height: {}\".format(rect1.height))\n",
    "print(\"Rectangle 1 area:\", rect1.area())\n",
    "#print(\"Rectangle 2 area:\", rect2.area())"
   ]
  },
  {
   "cell_type": "code",
   "execution_count": 3,
   "metadata": {},
   "outputs": [],
   "source": [
    "# 상속\n",
    "# 상속은 한 클래스가 다른 클래스의 속성과 메서드를 상속받을 수 있게 합니다.\n",
    "\n",
    "# 부모 클래스\n",
    "class Shape:\n",
    "    def __init__(self, color):\n",
    "        self.color = color\n",
    "\n",
    "    def info(self):\n",
    "        print(\"This is a shape.\")\n",
    "\n",
    "\n",
    "# 자식 클래스\n",
    "class Square(Shape):\n",
    "    def __init__(self, color, side):\n",
    "        super().__init__(color)\n",
    "        self.side = side\n",
    "\n",
    "    def info(self):\n",
    "        print(\"This is a square.\")\n",
    "\n",
    "    def area(self):\n",
    "        return self.side ** 2\n",
    "\n",
    "# 객체 생성\n",
    "square1 = Square(\"red\", 4)\n",
    "square2 = Square(\"blue\", 5)"
   ]
  },
  {
   "cell_type": "code",
   "execution_count": 5,
   "metadata": {},
   "outputs": [
    {
     "name": "stdout",
     "output_type": "stream",
     "text": [
      "Square 1 color: red\n",
      "Square 2 color: blue\n",
      "This is a square.\n",
      "Square 1 area: 16\n"
     ]
    }
   ],
   "source": [
    "# 부모 클래스와 자식 클래스의 속성과 메서드에 접근하기\n",
    "print(\"Square 1 color:\", square1.color)\n",
    "print(\"Square 2 color:\", square2.color)\n",
    "square1.info()\n",
    "print(\"Square 1 area:\", square1.area())"
   ]
  },
  {
   "cell_type": "code",
   "execution_count": null,
   "metadata": {},
   "outputs": [],
   "source": []
  }
 ],
 "metadata": {
  "kernelspec": {
   "display_name": "Python 3",
   "language": "python",
   "name": "python3"
  },
  "language_info": {
   "codemirror_mode": {
    "name": "ipython",
    "version": 3
   },
   "file_extension": ".py",
   "mimetype": "text/x-python",
   "name": "python",
   "nbconvert_exporter": "python",
   "pygments_lexer": "ipython3",
   "version": "3.11.3"
  },
  "orig_nbformat": 4
 },
 "nbformat": 4,
 "nbformat_minor": 2
}
