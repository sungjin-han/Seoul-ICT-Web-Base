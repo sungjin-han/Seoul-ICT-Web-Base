{
 "cells": [
  {
   "cell_type": "code",
   "execution_count": 2,
   "metadata": {},
   "outputs": [],
   "source": [
    "# Lesson: 변수와 데이터 타입\n",
    "\n",
    "# 변수\n",
    "# 변수는 Python에서 데이터를 저장하는 데 사용됩니다. 다양한 유형의 값을 저장할 수 있습니다.\n",
    "\n",
    "# 변수에 값 할당하기\n",
    "name = \"Alice\"  # 문자열 값\n",
    "age = 25  # 정수 값\n",
    "height = 1.75  # 실수 값"
   ]
  },
  {
   "cell_type": "code",
   "execution_count": 6,
   "metadata": {},
   "outputs": [
    {
     "name": "stdout",
     "output_type": "stream",
     "text": [
      "이름: Alice, 나이: 25, 키: 1.75\n"
     ]
    }
   ],
   "source": [
    "# 변수 값 출력하기\n",
    "print(\"이름: {}, 나이: {}, 키: {}\".format(name, age, height))"
   ]
  },
  {
   "cell_type": "code",
   "execution_count": 7,
   "metadata": {},
   "outputs": [
    {
     "name": "stdout",
     "output_type": "stream",
     "text": [
      "메시지: Hello World!\n",
      "개수: 10\n",
      "원주율: -3.14\n",
      "학생 여부: True\n"
     ]
    }
   ],
   "source": [
    "# 데이터 타입\n",
    "# Python에서 각 변수는 연관된 데이터 타입이 있습니다.\n",
    "\n",
    "# 문자열\n",
    "message = \"Hello World!\"  # 문자열 값\n",
    "print(\"메시지:\", message)\n",
    "\n",
    "# 정수\n",
    "count = 10  # 정수 값\n",
    "print(\"개수:\", count)\n",
    "\n",
    "# 실수\n",
    "pi = -3.14  # 실수 값\n",
    "print(\"원주율:\", pi)\n",
    "\n",
    "# 부울 (Boolean)\n",
    "is_student = True ## False  # 부울 값\n",
    "print(\"학생 여부:\", is_student)"
   ]
  },
  {
   "cell_type": "code",
   "execution_count": 5,
   "metadata": {},
   "outputs": [
    {
     "name": "stdout",
     "output_type": "stream",
     "text": [
      "message의 데이터 타입: <class 'str'>\n",
      "count의 데이터 타입: <class 'int'>\n",
      "pi의 데이터 타입: <class 'float'>\n",
      "is_student의 데이터 타입: <class 'bool'>\n"
     ]
    }
   ],
   "source": [
    "# 변수의 데이터 타입 확인하기\n",
    "print(\"message의 데이터 타입:\", type(message))\n",
    "print(\"count의 데이터 타입:\", type(count))\n",
    "print(\"pi의 데이터 타입:\", type(pi))\n",
    "print(\"is_student의 데이터 타입:\", type(is_student))"
   ]
  },
  {
   "cell_type": "code",
   "execution_count": 9,
   "metadata": {},
   "outputs": [
    {
     "name": "stdout",
     "output_type": "stream",
     "text": [
      "업데이트된 개수: 11\n"
     ]
    }
   ],
   "source": [
    "# 변수 값 변경하기\n",
    "count = count + 1\n",
    "print(\"업데이트된 개수:\", count)"
   ]
  },
  {
   "cell_type": "code",
   "execution_count": 13,
   "metadata": {},
   "outputs": [
    {
     "name": "stdout",
     "output_type": "stream",
     "text": [
      "before: <class 'str'>\n",
      "num1: 10\n",
      "after: <class 'int'>\n",
      "num2: 20\n",
      "num3: 3\n",
      "num4: 5.0\n",
      "num5: False\n"
     ]
    }
   ],
   "source": [
    "# 형 변환 (Type casting)\n",
    "# 변수를 한 데이터 타입에서 다른 데이터 타입으로 변환할 수 있습니다.\n",
    "\n",
    "# 문자열을 정수로 변환하기\n",
    "num1 = \"10\"\n",
    "print(\"before: {}\".format(type(num1)))\n",
    "num1 = int(num1)\n",
    "print(\"num1:\", num1)\n",
    "print(\"after: {}\".format(type(num1)))\n",
    "\n",
    "# 정수를 문자열로 변환하기\n",
    "num2 = 20\n",
    "num2 = str(num2)\n",
    "print(\"num2:\", num2)\n",
    "\n",
    "# 실수를 정수로 변환하기\n",
    "num3 = 3.7\n",
    "num3 = int(num3)\n",
    "print(\"num3:\", num3)\n",
    "\n",
    "# 정수를 실수로 변환하기\n",
    "num4 = 5\n",
    "num4 = float(num4)\n",
    "print(\"num4:\", num4)\n",
    "\n",
    "num5 = None\n",
    "num5 = bool(num5)\n",
    "print(\"num5: {}\".format(num5))"
   ]
  },
  {
   "cell_type": "code",
   "execution_count": null,
   "metadata": {},
   "outputs": [],
   "source": []
  }
 ],
 "metadata": {
  "kernelspec": {
   "display_name": "Python 3",
   "language": "python",
   "name": "python3"
  },
  "language_info": {
   "codemirror_mode": {
    "name": "ipython",
    "version": 3
   },
   "file_extension": ".py",
   "mimetype": "text/x-python",
   "name": "python",
   "nbconvert_exporter": "python",
   "pygments_lexer": "ipython3",
   "version": "3.11.3"
  },
  "orig_nbformat": 4
 },
 "nbformat": 4,
 "nbformat_minor": 2
}
