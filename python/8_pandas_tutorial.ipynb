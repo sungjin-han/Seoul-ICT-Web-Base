{
 "cells": [
  {
   "cell_type": "code",
   "execution_count": 27,
   "metadata": {},
   "outputs": [
    {
     "name": "stdout",
     "output_type": "stream",
     "text": [
      "<class 'pandas.core.frame.DataFrame'>\n"
     ]
    },
    {
     "data": {
      "text/html": [
       "<div>\n",
       "<style scoped>\n",
       "    .dataframe tbody tr th:only-of-type {\n",
       "        vertical-align: middle;\n",
       "    }\n",
       "\n",
       "    .dataframe tbody tr th {\n",
       "        vertical-align: top;\n",
       "    }\n",
       "\n",
       "    .dataframe thead th {\n",
       "        text-align: right;\n",
       "    }\n",
       "</style>\n",
       "<table border=\"1\" class=\"dataframe\">\n",
       "  <thead>\n",
       "    <tr style=\"text-align: right;\">\n",
       "      <th></th>\n",
       "      <th>name</th>\n",
       "      <th>age</th>\n",
       "      <th>city</th>\n",
       "    </tr>\n",
       "  </thead>\n",
       "  <tbody>\n",
       "    <tr>\n",
       "      <th>0</th>\n",
       "      <td>Alice</td>\n",
       "      <td>25</td>\n",
       "      <td>뉴욕</td>\n",
       "    </tr>\n",
       "    <tr>\n",
       "      <th>1</th>\n",
       "      <td>Bob</td>\n",
       "      <td>30</td>\n",
       "      <td>파리</td>\n",
       "    </tr>\n",
       "    <tr>\n",
       "      <th>2</th>\n",
       "      <td>Charlie</td>\n",
       "      <td>35</td>\n",
       "      <td>런던</td>\n",
       "    </tr>\n",
       "    <tr>\n",
       "      <th>3</th>\n",
       "      <td>james</td>\n",
       "      <td>30</td>\n",
       "      <td>서울</td>\n",
       "    </tr>\n",
       "    <tr>\n",
       "      <th>4</th>\n",
       "      <td>Alice</td>\n",
       "      <td>25</td>\n",
       "      <td>뉴욕</td>\n",
       "    </tr>\n",
       "  </tbody>\n",
       "</table>\n",
       "</div>"
      ],
      "text/plain": [
       "      name  age city\n",
       "0    Alice   25   뉴욕\n",
       "1      Bob   30   파리\n",
       "2  Charlie   35   런던\n",
       "3    james   30   서울\n",
       "4    Alice   25   뉴욕"
      ]
     },
     "execution_count": 27,
     "metadata": {},
     "output_type": "execute_result"
    }
   ],
   "source": [
    "# Lesson: 파이썬 Pandas 초급 튜토리얼\n",
    "\n",
    "# Pandas 가져오기\n",
    "import pandas as pd\n",
    "\n",
    "# DataFrame 생성하기\n",
    "data = {'name': ['Alice', 'Bob', 'Charlie', 'james', 'Alice', 'Bob', 'Charlie', 'james'],\n",
    "        'age': [25, 30, 35, 30, 25, 30, 35, 30],\n",
    "        'city': ['뉴욕', '파리', '런던', '서울', '뉴욕', '파리', '런던', '서울']}\n",
    "df = pd.DataFrame(data)\n",
    "print(type(df))\n",
    "df.head()"
   ]
  },
  {
   "cell_type": "code",
   "execution_count": 28,
   "metadata": {},
   "outputs": [
    {
     "name": "stdout",
     "output_type": "stream",
     "text": [
      "\n",
      "데이터 접근하기:\n",
      "이름 열:\n"
     ]
    }
   ],
   "source": [
    "# 데이터 접근하기\n",
    "print(\"\\n데이터 접근하기:\")\n",
    "print(\"이름 열:\")\n",
    "name_city = df[['name', 'city']]"
   ]
  },
  {
   "cell_type": "code",
   "execution_count": 33,
   "metadata": {},
   "outputs": [
    {
     "data": {
      "text/html": [
       "<div>\n",
       "<style scoped>\n",
       "    .dataframe tbody tr th:only-of-type {\n",
       "        vertical-align: middle;\n",
       "    }\n",
       "\n",
       "    .dataframe tbody tr th {\n",
       "        vertical-align: top;\n",
       "    }\n",
       "\n",
       "    .dataframe thead th {\n",
       "        text-align: right;\n",
       "    }\n",
       "</style>\n",
       "<table border=\"1\" class=\"dataframe\">\n",
       "  <thead>\n",
       "    <tr style=\"text-align: right;\">\n",
       "      <th></th>\n",
       "      <th>name</th>\n",
       "      <th>city</th>\n",
       "    </tr>\n",
       "  </thead>\n",
       "  <tbody>\n",
       "    <tr>\n",
       "      <th>0</th>\n",
       "      <td>Alice</td>\n",
       "      <td>뉴욕</td>\n",
       "    </tr>\n",
       "    <tr>\n",
       "      <th>1</th>\n",
       "      <td>Bob</td>\n",
       "      <td>파리</td>\n",
       "    </tr>\n",
       "    <tr>\n",
       "      <th>2</th>\n",
       "      <td>Charlie</td>\n",
       "      <td>런던</td>\n",
       "    </tr>\n",
       "    <tr>\n",
       "      <th>3</th>\n",
       "      <td>james</td>\n",
       "      <td>서울</td>\n",
       "    </tr>\n",
       "    <tr>\n",
       "      <th>4</th>\n",
       "      <td>Alice</td>\n",
       "      <td>뉴욕</td>\n",
       "    </tr>\n",
       "    <tr>\n",
       "      <th>5</th>\n",
       "      <td>Bob</td>\n",
       "      <td>파리</td>\n",
       "    </tr>\n",
       "    <tr>\n",
       "      <th>6</th>\n",
       "      <td>Charlie</td>\n",
       "      <td>런던</td>\n",
       "    </tr>\n",
       "    <tr>\n",
       "      <th>7</th>\n",
       "      <td>james</td>\n",
       "      <td>서울</td>\n",
       "    </tr>\n",
       "  </tbody>\n",
       "</table>\n",
       "</div>"
      ],
      "text/plain": [
       "      name city\n",
       "0    Alice   뉴욕\n",
       "1      Bob   파리\n",
       "2  Charlie   런던\n",
       "3    james   서울\n",
       "4    Alice   뉴욕\n",
       "5      Bob   파리\n",
       "6  Charlie   런던\n",
       "7    james   서울"
      ]
     },
     "execution_count": 33,
     "metadata": {},
     "output_type": "execute_result"
    }
   ],
   "source": [
    "name_city"
   ]
  },
  {
   "cell_type": "code",
   "execution_count": 32,
   "metadata": {},
   "outputs": [
    {
     "name": "stdout",
     "output_type": "stream",
     "text": [
      "첫 번째 행:\n",
      "      name  age city\n",
      "0    Alice   25   뉴욕\n",
      "1      Bob   30   파리\n",
      "2  Charlie   35   런던\n",
      "특정 셀:\n",
      "Bob\n"
     ]
    }
   ],
   "source": [
    "print(\"첫 번째 행:\")\n",
    "print(df.iloc[0:3])\n",
    "print(\"특정 셀:\")\n",
    "print(df.at[1, 'name'])"
   ]
  },
  {
   "cell_type": "code",
   "execution_count": 35,
   "metadata": {},
   "outputs": [
    {
     "name": "stdout",
     "output_type": "stream",
     "text": [
      "\n",
      "요약 통계량:\n",
      "평균 나이: 30.0\n",
      "최대 나이: 35\n",
      "최소 나이: 25\n"
     ]
    }
   ],
   "source": [
    "# 요약 통계량\n",
    "print(\"\\n요약 통계량:\")\n",
    "print(\"평균 나이:\", df['age'].mean())\n",
    "print(\"최대 나이:\", df['age'].max())\n",
    "print(\"최소 나이:\", df['age'].min())"
   ]
  },
  {
   "cell_type": "code",
   "execution_count": 37,
   "metadata": {},
   "outputs": [
    {
     "name": "stdout",
     "output_type": "stream",
     "text": [
      "\n",
      "데이터 정렬:\n",
      "정렬된 DataFrame:\n",
      "      name  age city\n",
      "2  Charlie   35   런던\n",
      "6  Charlie   35   런던\n",
      "1      Bob   30   파리\n",
      "3    james   30   서울\n",
      "5      Bob   30   파리\n",
      "7    james   30   서울\n",
      "0    Alice   25   뉴욕\n",
      "4    Alice   25   뉴욕\n"
     ]
    }
   ],
   "source": [
    "# 데이터 필터링\n",
    "# print(\"\\n데이터 필터링:\")\n",
    "# filtered_df = df[df['age'] > 30]\n",
    "# print(\"필터링된 DataFrame:\")\n",
    "# print(filtered_df)\n",
    "\n",
    "# 데이터 정렬\n",
    "print(\"\\n데이터 정렬:\")\n",
    "sorted_df = df.sort_values(by='age', ascending=False)\n",
    "print(\"정렬된 DataFrame:\")\n",
    "print(sorted_df)"
   ]
  },
  {
   "cell_type": "code",
   "execution_count": 40,
   "metadata": {},
   "outputs": [
    {
     "name": "stdout",
     "output_type": "stream",
     "text": [
      "\n",
      "월급 열이 추가된 DataFrame:\n",
      "      name  age city  salary\n",
      "0    Alice   25   뉴욕   50000\n",
      "1      Bob   30   파리   60000\n",
      "2  Charlie   35   런던   70000\n",
      "3    james   30   서울  400000\n",
      "4    Alice   25   뉴욕   50000\n",
      "5      Bob   30   파리   60000\n",
      "6  Charlie   35   런던   70000\n",
      "7    james   30   서울  400000\n",
      "\n",
      "도시 열을 삭제한 DataFrame:\n",
      "      name  age  salary\n",
      "0    Alice   25   50000\n",
      "1      Bob   30   60000\n",
      "2  Charlie   35   70000\n",
      "3    james   30  400000\n",
      "4    Alice   25   50000\n",
      "5      Bob   30   60000\n",
      "6  Charlie   35   70000\n",
      "7    james   30  400000\n"
     ]
    }
   ],
   "source": [
    "# 새로운 열 추가하기\n",
    "df['salary'] = [50000, 60000, 70000, 400000, 50000, 60000, 70000, 400000]\n",
    "print(\"\\n월급 열이 추가된 DataFrame:\")\n",
    "print(df)\n",
    "\n",
    "# 열 삭제하기\n",
    "df = df.drop('city', axis=1)\n",
    "print(\"\\n도시 열을 삭제한 DataFrame:\")\n",
    "print(df)"
   ]
  },
  {
   "cell_type": "code",
   "execution_count": 41,
   "metadata": {},
   "outputs": [],
   "source": [
    "df.to_csv('my_data.csv')"
   ]
  },
  {
   "cell_type": "code",
   "execution_count": 42,
   "metadata": {},
   "outputs": [
    {
     "name": "stdout",
     "output_type": "stream",
     "text": [
      "\n",
      "CSV 파일로부터 읽은 데이터: \n",
      "\n",
      "   Unnamed: 0     name  age  salary\n",
      "0           0    Alice   25   50000\n",
      "1           1      Bob   30   60000\n",
      "2           2  Charlie   35   70000\n",
      "3           3    james   30  400000\n",
      "4           4    Alice   25   50000\n",
      "5           5      Bob   30   60000\n",
      "6           6  Charlie   35   70000\n",
      "7           7    james   30  400000\n"
     ]
    }
   ],
   "source": [
    "# CSV 파일로부터 읽기\n",
    "csv_data = pd.read_csv('my_data.csv')\n",
    "print(\"\\nCSV 파일로부터 읽은 데이터: \\n\")\n",
    "print(csv_data)"
   ]
  },
  {
   "cell_type": "code",
   "execution_count": null,
   "metadata": {},
   "outputs": [],
   "source": []
  }
 ],
 "metadata": {
  "kernelspec": {
   "display_name": "Python 3",
   "language": "python",
   "name": "python3"
  },
  "language_info": {
   "codemirror_mode": {
    "name": "ipython",
    "version": 3
   },
   "file_extension": ".py",
   "mimetype": "text/x-python",
   "name": "python",
   "nbconvert_exporter": "python",
   "pygments_lexer": "ipython3",
   "version": "3.11.3"
  },
  "orig_nbformat": 4
 },
 "nbformat": 4,
 "nbformat_minor": 2
}
